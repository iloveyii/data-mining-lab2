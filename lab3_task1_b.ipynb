{
 "cells": [
  {
   "cell_type": "code",
   "execution_count": 1,
   "metadata": {},
   "outputs": [],
   "source": [
    "from sklearn.cluster import KMeans\n",
    "\n",
    "import pandas as pd\n",
    "import numpy as np\n",
    "from sklearn.preprocessing import MinMaxScaler\n",
    "from matplotlib import pyplot as plt\n",
    "\n",
    "# for medoids\n",
    "# from sklearn_extra.cluster import KMedoids # no way to install\n",
    "import scipy.cluster.hierarchy as sch\n",
    "from sklearn.cluster import AgglomerativeClustering\n",
    "import time\n",
    "\n",
    "%matplotlib inline"
   ]
  },
  {
   "cell_type": "code",
   "execution_count": 3,
   "metadata": {},
   "outputs": [],
   "source": [
    "# Global variables\n",
    "colors = ['green', 'blue', 'orange', 'red', 'purple', 'yellow', 'cyan', \n",
    "          'black', 'pink', 'teal', 'aqua', 'maroon']\n",
    "markers = [\"o\",\"v\",\"^\",\"<\",\">\",\"1\",\"2\",\"3\",\"4\",\"8\",\"s\",\"p\",\"P\",\"*\",\"h\",\"H\",\"+\",\"x\",\"X\",\"D\",\"d\"]\n",
    "dfs = []\n",
    "df = pd.DataFrame()\n",
    "file_name = 'employees.csv'"
   ]
  },
  {
   "cell_type": "code",
   "execution_count": 7,
   "metadata": {},
   "outputs": [],
   "source": [
    "def pre_process_data():\n",
    "    global df\n",
    "    # Read csv file\n",
    "    df = pd.read_csv(file_name, delim_whitespace=True)"
   ]
  },
  {
   "cell_type": "code",
   "execution_count": 8,
   "metadata": {},
   "outputs": [],
   "source": [
    "pre_process_data()"
   ]
  },
  {
   "cell_type": "code",
   "execution_count": 10,
   "metadata": {},
   "outputs": [
    {
     "data": {
      "text/html": [
       "<div>\n",
       "<style scoped>\n",
       "    .dataframe tbody tr th:only-of-type {\n",
       "        vertical-align: middle;\n",
       "    }\n",
       "\n",
       "    .dataframe tbody tr th {\n",
       "        vertical-align: top;\n",
       "    }\n",
       "\n",
       "    .dataframe thead th {\n",
       "        text-align: right;\n",
       "    }\n",
       "</style>\n",
       "<table border=\"1\" class=\"dataframe\">\n",
       "  <thead>\n",
       "    <tr style=\"text-align: right;\">\n",
       "      <th></th>\n",
       "      <th>sales</th>\n",
       "      <th>senior</th>\n",
       "      <th>31..35</th>\n",
       "      <th>46K..50K</th>\n",
       "      <th>30</th>\n",
       "    </tr>\n",
       "  </thead>\n",
       "  <tbody>\n",
       "    <tr>\n",
       "      <th>0</th>\n",
       "      <td>sales</td>\n",
       "      <td>junior</td>\n",
       "      <td>26..30</td>\n",
       "      <td>26K..30K</td>\n",
       "      <td>40</td>\n",
       "    </tr>\n",
       "    <tr>\n",
       "      <th>1</th>\n",
       "      <td>sales</td>\n",
       "      <td>junior</td>\n",
       "      <td>31..35</td>\n",
       "      <td>31K..35K</td>\n",
       "      <td>40</td>\n",
       "    </tr>\n",
       "    <tr>\n",
       "      <th>2</th>\n",
       "      <td>systems</td>\n",
       "      <td>junior</td>\n",
       "      <td>21..25</td>\n",
       "      <td>46K..50K</td>\n",
       "      <td>20</td>\n",
       "    </tr>\n",
       "    <tr>\n",
       "      <th>3</th>\n",
       "      <td>systems</td>\n",
       "      <td>senior</td>\n",
       "      <td>31..35</td>\n",
       "      <td>66K..70K</td>\n",
       "      <td>5</td>\n",
       "    </tr>\n",
       "    <tr>\n",
       "      <th>4</th>\n",
       "      <td>systems</td>\n",
       "      <td>junior</td>\n",
       "      <td>26..30</td>\n",
       "      <td>46K..50K</td>\n",
       "      <td>3</td>\n",
       "    </tr>\n",
       "    <tr>\n",
       "      <th>5</th>\n",
       "      <td>systems</td>\n",
       "      <td>senior</td>\n",
       "      <td>41..45</td>\n",
       "      <td>66K..70K</td>\n",
       "      <td>3</td>\n",
       "    </tr>\n",
       "    <tr>\n",
       "      <th>6</th>\n",
       "      <td>marketing</td>\n",
       "      <td>senior</td>\n",
       "      <td>36..40</td>\n",
       "      <td>46K..50K</td>\n",
       "      <td>10</td>\n",
       "    </tr>\n",
       "    <tr>\n",
       "      <th>7</th>\n",
       "      <td>marketing</td>\n",
       "      <td>junior</td>\n",
       "      <td>31..35</td>\n",
       "      <td>41K..45K</td>\n",
       "      <td>4</td>\n",
       "    </tr>\n",
       "    <tr>\n",
       "      <th>8</th>\n",
       "      <td>secretary</td>\n",
       "      <td>senior</td>\n",
       "      <td>46..50</td>\n",
       "      <td>36K..40K</td>\n",
       "      <td>4</td>\n",
       "    </tr>\n",
       "    <tr>\n",
       "      <th>9</th>\n",
       "      <td>secretary</td>\n",
       "      <td>junior</td>\n",
       "      <td>26..30</td>\n",
       "      <td>26K..30K</td>\n",
       "      <td>6</td>\n",
       "    </tr>\n",
       "  </tbody>\n",
       "</table>\n",
       "</div>"
      ],
      "text/plain": [
       "       sales  senior  31..35  46K..50K  30\n",
       "0      sales  junior  26..30  26K..30K  40\n",
       "1      sales  junior  31..35  31K..35K  40\n",
       "2    systems  junior  21..25  46K..50K  20\n",
       "3    systems  senior  31..35  66K..70K   5\n",
       "4    systems  junior  26..30  46K..50K   3\n",
       "5    systems  senior  41..45  66K..70K   3\n",
       "6  marketing  senior  36..40  46K..50K  10\n",
       "7  marketing  junior  31..35  41K..45K   4\n",
       "8  secretary  senior  46..50  36K..40K   4\n",
       "9  secretary  junior  26..30  26K..30K   6"
      ]
     },
     "execution_count": 10,
     "metadata": {},
     "output_type": "execute_result"
    }
   ],
   "source": [
    "df\n"
   ]
  },
  {
   "cell_type": "code",
   "execution_count": null,
   "metadata": {},
   "outputs": [],
   "source": [
    "target = df.Survived\n",
    "inputs = df.drop('Survived', axis='columns')"
   ]
  }
 ],
 "metadata": {
  "kernelspec": {
   "display_name": "Python 2",
   "language": "python",
   "name": "python2"
  },
  "language_info": {
   "codemirror_mode": {
    "name": "ipython",
    "version": 2
   },
   "file_extension": ".py",
   "mimetype": "text/x-python",
   "name": "python",
   "nbconvert_exporter": "python",
   "pygments_lexer": "ipython2",
   "version": "2.7.15"
  }
 },
 "nbformat": 4,
 "nbformat_minor": 2
}
