{
 "cells": [
  {
   "cell_type": "code",
   "execution_count": 1,
   "metadata": {},
   "outputs": [],
   "source": [
    "%%bash\n",
    "# pip3 install pyclustering"
   ]
  },
  {
   "cell_type": "code",
   "execution_count": 2,
   "metadata": {},
   "outputs": [],
   "source": [
    "# This program computes the KMeans, KMedoids for k=2,3... and plot them"
   ]
  },
  {
   "cell_type": "code",
   "execution_count": 1,
   "metadata": {},
   "outputs": [],
   "source": [
    "import pandas as pd\n",
    "import numpy as np\n",
    "from sklearn.preprocessing import MinMaxScaler\n",
    "from matplotlib import pyplot as plt\n",
    "\n",
    "# for kmeans\n",
    "from sklearn.cluster import KMeans\n",
    "\n",
    "# for medoids\n",
    "# from sklearn_extra.cluster import KMedoids \n",
    "from pyclustering.cluster.kmedoids import kmedoids\n",
    "from pyclustering.utils import read_sample\n",
    "from pyclustering.cluster import cluster_visualizer\n",
    "\n",
    "import time\n",
    "\n",
    "%matplotlib inline"
   ]
  },
  {
   "cell_type": "code",
   "execution_count": 2,
   "metadata": {},
   "outputs": [],
   "source": [
    "# Global variables\n",
    "k = 2\n",
    "colors = ['green', 'blue', 'orange', 'red', 'purple', 'yellow', 'cyan', \n",
    "          'black', 'pink', 'teal', 'aqua', 'maroon']\n",
    "markers = [\"o\",\"v\",\"^\",\"<\",\">\",\"1\",\"2\",\"3\",\"4\",\"8\",\"s\",\"p\",\"P\",\"*\",\"h\",\"H\",\"+\",\"x\",\"X\",\"D\",\"d\"]\n",
    "dfs = []\n",
    "df = pd.DataFrame()\n",
    "file_name = 'rawdata200K.dat'"
   ]
  },
  {
   "cell_type": "code",
   "execution_count": 3,
   "metadata": {},
   "outputs": [],
   "source": [
    "def pre_process_data():\n",
    "    global df\n",
    "    # Read csv file\n",
    "    df = pd.read_csv(file_name, delim_whitespace=True)\n",
    "    df.columns = [\"X\", \"Y\"]\n",
    "    # Scale data\n",
    "    scaler = MinMaxScaler()\n",
    "    df.X = scaler.fit(df[['X']]).transform(df[['X']])\n",
    "    df.Y = scaler.fit(df[['Y']]).transform(df[['Y']])\n",
    "    # Check if any nulls\n",
    "    df.isnull().sum()"
   ]
  },
  {
   "cell_type": "code",
   "execution_count": 4,
   "metadata": {},
   "outputs": [],
   "source": [
    "def plot_data():\n",
    "    plt.scatter(df.head(1000).X, df.head(1000).Y)\n",
    "    plt.title('Scatter plot of X, Y')\n",
    "    plt.xlabel('X')\n",
    "    plt.ylabel('Y')\n",
    "\n",
    "    plt.savefig('images/scatter-plot.png', dpi=300, bbox_inches='tight')\n",
    "    plt.show()"
   ]
  },
  {
   "cell_type": "code",
   "execution_count": null,
   "metadata": {},
   "outputs": [],
   "source": []
  },
  {
   "cell_type": "code",
   "execution_count": 5,
   "metadata": {},
   "outputs": [],
   "source": [
    "def find_kmeans(k):\n",
    "    start = time.time()\n",
    "    global dfs\n",
    "    dfs = []\n",
    "    # Find kMeans\n",
    "    k_means = KMeans(n_clusters=k)\n",
    "    cluster = k_means.fit_predict(df[['X', 'Y']])\n",
    "    df['cluster'] = cluster\n",
    "    \n",
    "    for i in range(0,k):\n",
    "        dfs.append(df[df.cluster==i])\n",
    "        \n",
    "    end = time.time()\n",
    "    print('KMeans time: ' , end-start)"
   ]
  },
  {
   "cell_type": "code",
   "execution_count": null,
   "metadata": {},
   "outputs": [],
   "source": []
  },
  {
   "cell_type": "code",
   "execution_count": 6,
   "metadata": {},
   "outputs": [],
   "source": [
    "def plot_clusters(k, save_to_file=True):\n",
    "    # Plot it\n",
    "    for i in range(0, len(dfs)):\n",
    "        plt.scatter(dfs[i].X, dfs[i].Y, color=colors[i], marker=markers[i], label='cluster ' + str(i))\n",
    "    \n",
    "    plt.title('Scatter plot of X, Y using K Means with K='+str(k))\n",
    "    plt.xlabel('X')\n",
    "    plt.ylabel('Y')\n",
    "    plt.legend()\n",
    "    \n",
    "    if save_to_file:\n",
    "        plt.savefig('images/scatter-plot-kmeans-scaled-k-'+str(k)+'.png', dpi=300, bbox_inches='tight')\n",
    "        \n",
    "    plt.show()\n"
   ]
  },
  {
   "cell_type": "code",
   "execution_count": 7,
   "metadata": {},
   "outputs": [],
   "source": [
    "def find_elbow(max_k):\n",
    "    # Elbow plot method - find best k value\n",
    "    # For capturing the execution time \n",
    "    start = time.time()\n",
    "    k_list = range(1, max_k)\n",
    "    sse = []\n",
    "\n",
    "    for k_i in k_list:\n",
    "        k_means = KMeans(n_clusters=k_i)\n",
    "        k_means.fit(df[['X', 'Y']])\n",
    "        sse.append(k_means.inertia_)\n",
    "\n",
    "    end= time.time()\n",
    "    print('Elbow plot time: ', end - start)\n",
    "    print('Sum of squared errors: ', sse)\n",
    "    \n",
    "    # Plot it\n",
    "    plt.title('Elbow plot to find best K based on SSE')\n",
    "    plt.xlabel('K')\n",
    "    plt.ylabel('SSE')\n",
    "    plt.plot(k_list, sse)\n",
    "\n",
    "    plt.savefig('images/elbow-kmeans-scaled.png', dpi=300, bbox_inches='tight')\n",
    "    plt.show()\n",
    "    "
   ]
  },
  {
   "cell_type": "code",
   "execution_count": null,
   "metadata": {},
   "outputs": [],
   "source": []
  },
  {
   "cell_type": "code",
   "execution_count": 8,
   "metadata": {
    "scrolled": true
   },
   "outputs": [],
   "source": [
    "def find_kmedoids(k):\n",
    "    # K Medoids from pyclustering\n",
    "    start = time.time()\n",
    "\n",
    "    sample = df.values.tolist() # read_sample('./rawdata10K.dat')\n",
    "\n",
    "    # find clusteroids\n",
    "    clusteroids = []\n",
    "    for i in range(0,k):\n",
    "        clusteroids.append(i)\n",
    "\n",
    "\n",
    "    k_medoids_instance = kmedoids(sample, clusteroids)\n",
    "    k_medoids_instance.process()\n",
    "    clusters = k_medoids_instance.get_clusters()\n",
    "    medoids = k_medoids_instance.get_medoids()\n",
    "    end = time.time()\n",
    "\n",
    "    print('KMedoids time: ', end-start)\n",
    "    print(medoids)\n",
    "    \n",
    "    # Display clusters.\n",
    "    visualizer = cluster_visualizer()\n",
    "    visualizer.set_canvas_title('KMedoids clustering with K='+str(k))\n",
    "    visualizer.append_clusters(clusters, sample)\n",
    "    visualizer.show()\n",
    "\n",
    "    #visualizer.show(display = True)\n",
    "    #plt.show()\n",
    "    #plt.savefig('images/scatter-plot-kmedoids-scaled-k-'+str(k)+'.png', dpi=300, bbox_inches='tight')\n"
   ]
  },
  {
   "cell_type": "code",
   "execution_count": null,
   "metadata": {},
   "outputs": [],
   "source": []
  },
  {
   "cell_type": "code",
   "execution_count": null,
   "metadata": {},
   "outputs": [
    {
     "data": {
      "image/png": "[encoded data removed]",
      "text/plain": [
       "<Figure size 432x288 with 1 Axes>"
      ]
     },
     "metadata": {
      "needs_background": "light"
     },
     "output_type": "display_data"
    },
    {
     "name": "stdout",
     "output_type": "stream",
     "text": [
      "Elbow plot time:  16.990743398666382\n",
      "Sum of squared errors:  [34924.362078203754, 12365.059777215765, 7533.189682911524, 5669.981932064965, 4300.317865499574, 3310.662096004663]\n"
     ]
    },
    {
     "data": {
      "image/png": "[encoded data removed]",
      "text/plain": [
       "<Figure size 432x288 with 1 Axes>"
      ]
     },
     "metadata": {
      "needs_background": "light"
     },
     "output_type": "display_data"
    },
    {
     "name": "stdout",
     "output_type": "stream",
     "text": [
      "KMeans time:  1.5288231372833252\n"
     ]
    },
    {
     "data": {
      "image/png": "[encoded data removed]",
      "text/plain": [
       "<Figure size 432x288 with 1 Axes>"
      ]
     },
     "metadata": {
      "needs_background": "light"
     },
     "output_type": "display_data"
    },
    {
     "name": "stdout",
     "output_type": "stream",
     "text": [
      "KMedoids time:  1192.4539515972137\n",
      "[33839, 124558]\n"
     ]
    }
   ],
   "source": [
    "# 1 - Preprocess data\n",
    "pre_process_data()\n",
    "\n",
    "# 2 - Plot all data\n",
    "plot_data()\n",
    "\n",
    "# 3 - Find elbow to guess bet k\n",
    "find_elbow(7)\n",
    "\n",
    "\n",
    "### iterate for k=2,3,4,5,6,7,8\n",
    "for k in range(2, 8):\n",
    "\n",
    "    # 4 - find kmeans\n",
    "    find_kmeans(k)\n",
    "\n",
    "    # 5 - plot it\n",
    "    plot_clusters(k)\n",
    "\n",
    "    # 6 - find kmedoids\n",
    "    find_kmedoids(k)"
   ]
  },
  {
   "cell_type": "code",
   "execution_count": null,
   "metadata": {},
   "outputs": [],
   "source": []
  }
 ],
 "metadata": {
  "kernelspec": {
   "display_name": "Python 3",
   "language": "python",
   "name": "python3"
  },
  "language_info": {
   "codemirror_mode": {
    "name": "ipython",
    "version": 3
   },
   "file_extension": ".py",
   "mimetype": "text/x-python",
   "name": "python",
   "nbconvert_exporter": "python",
   "pygments_lexer": "ipython3",
   "version": "3.7.6"
  }
 },
 "nbformat": 4,
 "nbformat_minor": 2
}
