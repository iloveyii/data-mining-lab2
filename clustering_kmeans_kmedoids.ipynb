{
 "cells": [
  {
   "cell_type": "code",
   "execution_count": 1,
   "metadata": {},
   "outputs": [],
   "source": [
    "# Imports"
   ]
  },
  {
   "cell_type": "code",
   "execution_count": 2,
   "metadata": {},
   "outputs": [],
   "source": [
    "from sklearn.cluster import KMeans\n",
    "\n",
    "import pandas as pd\n",
    "import numpy as np\n",
    "from sklearn.preprocessing import MinMaxScaler\n",
    "from matplotlib import pyplot as plt\n",
    "\n",
    "# for medoids\n",
    "# from sklearn_extra.cluster import KMedoids # no way to install\n",
    "from pyclustering.cluster.kmedoids import kmedoids\n",
    "from pyclustering.utils import read_sample\n",
    "from pyclustering.cluster import cluster_visualizer\n",
    "from sklearn_extra.cluster import KMedoids\n",
    "import time\n",
    "\n",
    "%matplotlib inline"
   ]
  },
  {
   "cell_type": "code",
   "execution_count": 3,
   "metadata": {},
   "outputs": [],
   "source": [
    "# Set constants\n",
    "k = 2\n",
    "colors = ['green', 'blue', 'orange', 'red', 'purple', 'yellow', 'cyan', 'black', 'pink', 'sky']"
   ]
  },
  {
   "cell_type": "code",
   "execution_count": 4,
   "metadata": {},
   "outputs": [
    {
     "data": {
      "text/plain": [
       "X    0\n",
       "Y    0\n",
       "dtype: int64"
      ]
     },
     "execution_count": 4,
     "metadata": {},
     "output_type": "execute_result"
    }
   ],
   "source": [
    "df = pd.read_csv('rawdata200K.dat', delim_whitespace=True)\n",
    "df.columns = [\"X\", \"Y\"]\n",
    "df.isnull().sum()"
   ]
  },
  {
   "cell_type": "code",
   "execution_count": 5,
   "metadata": {},
   "outputs": [
    {
     "data": {
      "image/png": "[encoded data removed]",
      "text/plain": [
       "<Figure size 432x288 with 1 Axes>"
      ]
     },
     "metadata": {
      "needs_background": "light"
     },
     "output_type": "display_data"
    }
   ],
   "source": [
    "plt.scatter(df.X, df.Y)\n",
    "plt.title('Scatter plot of X, Y')\n",
    "plt.xlabel('X')\n",
    "plt.ylabel('Y')\n",
    "\n",
    "plt.savefig('images/scatter-plot.png', dpi=300, bbox_inches='tight')\n",
    "plt.show()"
   ]
  },
  {
   "cell_type": "code",
   "execution_count": null,
   "metadata": {},
   "outputs": [],
   "source": []
  },
  {
   "cell_type": "code",
   "execution_count": 6,
   "metadata": {},
   "outputs": [],
   "source": [
    "# Find kMeans\n",
    "# For capturing the execution time \n",
    "k_means = KMeans(n_clusters=k)\n",
    "cluster = k_means.fit_predict(df[['X', 'Y']])\n",
    "df['cluster'] = cluster"
   ]
  },
  {
   "cell_type": "code",
   "execution_count": 7,
   "metadata": {},
   "outputs": [],
   "source": [
    "# Visualize cluster\n",
    "dfs = []\n",
    "for i in range(0,k):\n",
    "    dfs.append(df[df.cluster==i])"
   ]
  },
  {
   "cell_type": "code",
   "execution_count": 8,
   "metadata": {},
   "outputs": [
    {
     "data": {
      "text/plain": [
       "()"
      ]
     },
     "execution_count": 8,
     "metadata": {},
     "output_type": "execute_result"
    }
   ],
   "source": [
    "# Plot it\n",
    "    \n",
    "/\n",
    "\"\"\"\n",
    "for i in range(0,k):\n",
    "    plt.scatter(dfs[i].X, dfs[i].Y, color=colors[i], marker='*', label='cluster ' + str(i))\n",
    "\n",
    "plt.title('Scatter plot of X, Y using K Means with K=' + str(k))\n",
    "plt.xlabel('X')\n",
    "plt.ylabel('Y')\n",
    "plt.legend()\n",
    "\n",
    "\n",
    "plt.savefig('images/scatter-plot-kmeans-k-'+str(k)+'.png', dpi=300, bbox_inches='tight')\n",
    "plt.show()\n",
    "\"\"\"\n",
    "/"
   ]
  },
  {
   "cell_type": "code",
   "execution_count": 9,
   "metadata": {},
   "outputs": [],
   "source": [
    "# Scale data\n",
    "scaler = MinMaxScaler()\n",
    "df.X = scaler.fit(df[['X']]).transform(df[['X']])\n",
    "df.Y = scaler.fit(df[['Y']]).transform(df[['Y']])"
   ]
  },
  {
   "cell_type": "code",
   "execution_count": 10,
   "metadata": {},
   "outputs": [
    {
     "name": "stdout",
     "output_type": "stream",
     "text": [
      "1.4243109226226807\n"
     ]
    }
   ],
   "source": [
    "# Retrain or recompute cluster\n",
    "start = time.time()\n",
    "cluster = k_means.fit_predict(df[['X', 'Y']])\n",
    "df['cluster'] = cluster\n",
    "end = time.time()\n",
    "print(end-start)"
   ]
  },
  {
   "cell_type": "code",
   "execution_count": 11,
   "metadata": {},
   "outputs": [
    {
     "data": {
      "image/png": "[encoded data removed]",
      "text/plain": [
       "<Figure size 432x288 with 1 Axes>"
      ]
     },
     "metadata": {
      "needs_background": "light"
     },
     "output_type": "display_data"
    }
   ],
   "source": [
    "# Plot it\n",
    "for i in range(0,k):\n",
    "    plt.scatter(dfs[i].X, dfs[i].Y, color=colors[i], marker='*', label='cluster ' + str(i))\n",
    "    \n",
    "plt.title('Scatter plot of scaled X, Y using K Means with K='+str(k))\n",
    "plt.xlabel('X')\n",
    "plt.ylabel('Y')\n",
    "plt.legend()\n",
    "\n",
    "plt.savefig('images/scatter-plot-kmeans-scaled-k-'+str(k)+'.png', dpi=300, bbox_inches='tight')\n",
    "plt.show()\n"
   ]
  },
  {
   "cell_type": "code",
   "execution_count": 12,
   "metadata": {},
   "outputs": [
    {
     "name": "stdout",
     "output_type": "stream",
     "text": [
      "24.44645118713379\n"
     ]
    }
   ],
   "source": [
    "# Elbow plot method - find best k value\n",
    "# For capturing the execution time \n",
    "start = time.time()\n",
    "k_list = range(1, 10)\n",
    "sse = []\n",
    "\n",
    "for k_i in k_list:\n",
    "    k_means = KMeans(n_clusters=k_i)\n",
    "    k_means.fit(df[['X', 'Y']])\n",
    "    sse.append(k_means.inertia_)\n",
    "    \n",
    "end= time.time()\n",
    "print(end - start)"
   ]
  },
  {
   "cell_type": "code",
   "execution_count": 13,
   "metadata": {},
   "outputs": [
    {
     "data": {
      "text/plain": [
       "[34924.362078203754,\n",
       " 12365.064886474058,\n",
       " 7533.189682911524,\n",
       " 5669.9820230651185,\n",
       " 4300.324851775172,\n",
       " 3310.6612565612886,\n",
       " 2560.749403853674,\n",
       " 1846.4609788417924,\n",
       " 1632.8876164826816]"
      ]
     },
     "execution_count": 13,
     "metadata": {},
     "output_type": "execute_result"
    }
   ],
   "source": [
    "sse"
   ]
  },
  {
   "cell_type": "code",
   "execution_count": 14,
   "metadata": {
    "scrolled": true
   },
   "outputs": [
    {
     "data": {
      "image/png": "[encoded data removed]",
      "text/plain": [
       "<Figure size 432x288 with 1 Axes>"
      ]
     },
     "metadata": {
      "needs_background": "light"
     },
     "output_type": "display_data"
    }
   ],
   "source": [
    "plt.title('Elbow plot to find best K based on SSE')\n",
    "\n",
    "plt.xlabel('K')\n",
    "plt.ylabel('SSE')\n",
    "plt.plot(k_list, sse)\n",
    "\n",
    "plt.savefig('images/elbow-kmeans-scaled.png', dpi=300, bbox_inches='tight')\n",
    "plt.show()"
   ]
  },
  {
   "cell_type": "code",
   "execution_count": null,
   "metadata": {
    "scrolled": true
   },
   "outputs": [],
   "source": [
    "# K Medoids from pyclustering\n",
    "start = time.time()\n",
    "\n",
    "sample = df.values.tolist() # read_sample('./rawdata10K.dat')\n",
    "\n",
    "# find clusteroids\n",
    "clusteroids = []\n",
    "for i in range(0,k):\n",
    "    clusteroids.append(i)\n",
    "    \n",
    "    \n",
    "k_medoids_instance = kmedoids(sample, clusteroids)\n",
    "k_medoids_instance.process()\n",
    "clusters = k_medoids_instance.get_clusters()\n",
    "medoids = k_medoids_instance.get_medoids()\n",
    "end = time.time()\n",
    "\n",
    "print(end-start)\n",
    "\n",
    "print(medoids)\n"
   ]
  },
  {
   "cell_type": "code",
   "execution_count": null,
   "metadata": {},
   "outputs": [],
   "source": [
    "# Display clusters.\n",
    "visualizer = cluster_visualizer()\n",
    "visualizer.set_canvas_title('KMedoids clustering with K='+str(k))\n",
    "visualizer.append_clusters(clusters, sample)\n",
    "visualizer.show()\n",
    "\n",
    "#visualizer.show(display = True)\n",
    "#plt.show()\n",
    "#plt.savefig('images/scatter-plot-kmedoids-scaled-k-'+str(k)+'.png', dpi=300, bbox_inches='tight')\n"
   ]
  },
  {
   "cell_type": "code",
   "execution_count": null,
   "metadata": {},
   "outputs": [],
   "source": [
    "# Visualize medoids using plot\n",
    "\n",
    "dfs = []\n",
    "for i in range(0,k):\n",
    "    dfs.append(df[df.index.isin(clusters[i])])"
   ]
  },
  {
   "cell_type": "code",
   "execution_count": null,
   "metadata": {},
   "outputs": [],
   "source": [
    "# Plot it\n",
    "for i in range(0,k):\n",
    "    plt.scatter(dfs[i].X, dfs[i].Y, color=colors[i], marker='*', label='cluster ' + str(i))\n",
    "    \n",
    "plt.title('Scatter plot of scaled X, Y using K Medoids with K='+str(k))\n",
    "plt.xlabel('X')\n",
    "plt.ylabel('Y')\n",
    "plt.legend()\n",
    "\n",
    "plt.savefig('images/scatter-plot-kmedoids-scaled-k-'+str(k)+'.png', dpi=300, bbox_inches='tight')\n",
    "plt.show()"
   ]
  },
  {
   "cell_type": "code",
   "execution_count": null,
   "metadata": {},
   "outputs": [],
   "source": [
    "# Using kmedoids from sklearn-extra\n",
    "/\n",
    "\"\"\"\n",
    "xx = df[['X', 'Y']].values.tolist()\n",
    "kmedoids = KMedoids(n_clusters=3, random_state=0).fit(xx)\n",
    "df['cluster'] = kmedoids.labels_\n",
    "\n",
    "df1 = df[df.cluster==0]\n",
    "df2 = df[df.cluster==1]\n",
    "df3 = df[df.cluster ==2]\n",
    "\n",
    "plt.scatter(df1.X, df1.Y, color='blue', marker='*', label='cluster 1')\n",
    "plt.scatter(df2.X, df2.Y, color='orange', marker='+', label='cluster 2')\n",
    "plt.scatter(df3.X, df3.Y, color='green', marker='o', label='cluster 3')\n",
    "plt.title('Scatter plot of scaled X, Y using K Medoids - lib : sklearn-extra')\n",
    "plt.xlabel('X')\n",
    "plt.ylabel('Y')\n",
    "plt.legend()\n",
    "\"\"\"\n",
    "/"
   ]
  },
  {
   "cell_type": "code",
   "execution_count": null,
   "metadata": {},
   "outputs": [],
   "source": []
  }
 ],
 "metadata": {
  "kernelspec": {
   "display_name": "Python 3",
   "language": "python",
   "name": "python3"
  },
  "language_info": {
   "codemirror_mode": {
    "name": "ipython",
    "version": 3
   },
   "file_extension": ".py",
   "mimetype": "text/x-python",
   "name": "python",
   "nbconvert_exporter": "python",
   "pygments_lexer": "ipython3",
   "version": "3.6.7"
  }
 },
 "nbformat": 4,
 "nbformat_minor": 2
}
